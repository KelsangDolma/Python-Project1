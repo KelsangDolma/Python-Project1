{
 "cells": [
  {
   "cell_type": "markdown",
   "metadata": {},
   "source": [
    "# 1. Import the necessary libraries"
   ]
  },
  {
   "cell_type": "code",
   "execution_count": 1,
   "metadata": {},
   "outputs": [],
   "source": [
    "import numpy as np\n",
    "import pandas as pd\n",
    "import matplotlib.pyplot as plt\n",
    "from matplotlib.pyplot import rcParams"
   ]
  },
  {
   "cell_type": "markdown",
   "metadata": {},
   "source": [
    "# 2. Create a DataFrame with dictionary. Your DataFrame should contains at least 20 rows and 6 columns. In some cells, include standard, non-standard, and expected missing values."
   ]
  },
  {
   "cell_type": "code",
   "execution_count": 2,
   "metadata": {},
   "outputs": [],
   "source": [
    "data = {'Name':['Pema', 'Geeta', 'Shyam','Sarkar','Ram', 'Khale','shale',\n",
    "                'Smith',' Kane','Zoro','Bane', ' Hancy','Naruto','Buruto','Nickey', 'Sanji',\n",
    "                'Mohan','Priyanca','Kristin', 'Kisan'], \n",
    "        'Course':['Esl', 'Geometry', 'Datasciense', 'SSN', 'Eng','Bio', 'Physics', 'Bio',\n",
    "                  'NaN','chemistry','Java','C#', 'C++', 'Music','Math','Art','Math','Datastructure','Python','NaN' ],\n",
    "       'Gender': ['M','F','M','M','M','M','M','F','M','M','M','M','M','M','F','M','M','F',\n",
    "                  'F', 'M'],\n",
    "        'Height': [5.7,5.11,4.11, np.NaN,6.0,6.1,5.1,5.9,5.7,5.9,np.nan,6.0,6.2,6.3,5.11,5.8,5.11,4.11,6.1,np.NaN],\n",
    "       'Major':['Animation','Libaral art','CS','Accounting','Communication','English','IT','Commuincation','IT',\n",
    "               'Journalism','Economics', 'Security', 'Business', 'WebDesign', 'Business', \n",
    "                'Business', 'Nursing', 'Accounting', 'CS', 'CS'],\n",
    "        'Grade': [95,88,85,75,90,np.NaN,87,90,91,93,97,87,88,89,79,'Nan',98,np.nan,np.NaN,88], \n",
    "       }"
   ]
  },
  {
   "cell_type": "markdown",
   "metadata": {},
   "source": [
    "# 3.Assign your DataFrame to a variable called MAC270"
   ]
  },
  {
   "cell_type": "code",
   "execution_count": 3,
   "metadata": {},
   "outputs": [],
   "source": [
    "MAC270 = pd.DataFrame(data, columns = ['Name','Course','Gender','Height','Major','Grade'])"
   ]
  },
  {
   "cell_type": "code",
   "execution_count": 4,
   "metadata": {},
   "outputs": [
    {
     "data": {
      "text/html": [
       "<div>\n",
       "<style scoped>\n",
       "    .dataframe tbody tr th:only-of-type {\n",
       "        vertical-align: middle;\n",
       "    }\n",
       "\n",
       "    .dataframe tbody tr th {\n",
       "        vertical-align: top;\n",
       "    }\n",
       "\n",
       "    .dataframe thead th {\n",
       "        text-align: right;\n",
       "    }\n",
       "</style>\n",
       "<table border=\"1\" class=\"dataframe\">\n",
       "  <thead>\n",
       "    <tr style=\"text-align: right;\">\n",
       "      <th></th>\n",
       "      <th>Name</th>\n",
       "      <th>Course</th>\n",
       "      <th>Gender</th>\n",
       "      <th>Height</th>\n",
       "      <th>Major</th>\n",
       "      <th>Grade</th>\n",
       "    </tr>\n",
       "  </thead>\n",
       "  <tbody>\n",
       "    <tr>\n",
       "      <th>0</th>\n",
       "      <td>Pema</td>\n",
       "      <td>Esl</td>\n",
       "      <td>M</td>\n",
       "      <td>5.70</td>\n",
       "      <td>Animation</td>\n",
       "      <td>95</td>\n",
       "    </tr>\n",
       "    <tr>\n",
       "      <th>1</th>\n",
       "      <td>Geeta</td>\n",
       "      <td>Geometry</td>\n",
       "      <td>F</td>\n",
       "      <td>5.11</td>\n",
       "      <td>Libaral art</td>\n",
       "      <td>88</td>\n",
       "    </tr>\n",
       "    <tr>\n",
       "      <th>2</th>\n",
       "      <td>Shyam</td>\n",
       "      <td>Datasciense</td>\n",
       "      <td>M</td>\n",
       "      <td>4.11</td>\n",
       "      <td>CS</td>\n",
       "      <td>85</td>\n",
       "    </tr>\n",
       "    <tr>\n",
       "      <th>3</th>\n",
       "      <td>Sarkar</td>\n",
       "      <td>SSN</td>\n",
       "      <td>M</td>\n",
       "      <td>NaN</td>\n",
       "      <td>Accounting</td>\n",
       "      <td>75</td>\n",
       "    </tr>\n",
       "    <tr>\n",
       "      <th>4</th>\n",
       "      <td>Ram</td>\n",
       "      <td>Eng</td>\n",
       "      <td>M</td>\n",
       "      <td>6.00</td>\n",
       "      <td>Communication</td>\n",
       "      <td>90</td>\n",
       "    </tr>\n",
       "    <tr>\n",
       "      <th>5</th>\n",
       "      <td>Khale</td>\n",
       "      <td>Bio</td>\n",
       "      <td>M</td>\n",
       "      <td>6.10</td>\n",
       "      <td>English</td>\n",
       "      <td>NaN</td>\n",
       "    </tr>\n",
       "    <tr>\n",
       "      <th>6</th>\n",
       "      <td>shale</td>\n",
       "      <td>Physics</td>\n",
       "      <td>M</td>\n",
       "      <td>5.10</td>\n",
       "      <td>IT</td>\n",
       "      <td>87</td>\n",
       "    </tr>\n",
       "    <tr>\n",
       "      <th>7</th>\n",
       "      <td>Smith</td>\n",
       "      <td>Bio</td>\n",
       "      <td>F</td>\n",
       "      <td>5.90</td>\n",
       "      <td>Commuincation</td>\n",
       "      <td>90</td>\n",
       "    </tr>\n",
       "    <tr>\n",
       "      <th>8</th>\n",
       "      <td>Kane</td>\n",
       "      <td>NaN</td>\n",
       "      <td>M</td>\n",
       "      <td>5.70</td>\n",
       "      <td>IT</td>\n",
       "      <td>91</td>\n",
       "    </tr>\n",
       "    <tr>\n",
       "      <th>9</th>\n",
       "      <td>Zoro</td>\n",
       "      <td>chemistry</td>\n",
       "      <td>M</td>\n",
       "      <td>5.90</td>\n",
       "      <td>Journalism</td>\n",
       "      <td>93</td>\n",
       "    </tr>\n",
       "    <tr>\n",
       "      <th>10</th>\n",
       "      <td>Bane</td>\n",
       "      <td>Java</td>\n",
       "      <td>M</td>\n",
       "      <td>NaN</td>\n",
       "      <td>Economics</td>\n",
       "      <td>97</td>\n",
       "    </tr>\n",
       "    <tr>\n",
       "      <th>11</th>\n",
       "      <td>Hancy</td>\n",
       "      <td>C#</td>\n",
       "      <td>M</td>\n",
       "      <td>6.00</td>\n",
       "      <td>Security</td>\n",
       "      <td>87</td>\n",
       "    </tr>\n",
       "    <tr>\n",
       "      <th>12</th>\n",
       "      <td>Naruto</td>\n",
       "      <td>C++</td>\n",
       "      <td>M</td>\n",
       "      <td>6.20</td>\n",
       "      <td>Business</td>\n",
       "      <td>88</td>\n",
       "    </tr>\n",
       "    <tr>\n",
       "      <th>13</th>\n",
       "      <td>Buruto</td>\n",
       "      <td>Music</td>\n",
       "      <td>M</td>\n",
       "      <td>6.30</td>\n",
       "      <td>WebDesign</td>\n",
       "      <td>89</td>\n",
       "    </tr>\n",
       "    <tr>\n",
       "      <th>14</th>\n",
       "      <td>Nickey</td>\n",
       "      <td>Math</td>\n",
       "      <td>F</td>\n",
       "      <td>5.11</td>\n",
       "      <td>Business</td>\n",
       "      <td>79</td>\n",
       "    </tr>\n",
       "    <tr>\n",
       "      <th>15</th>\n",
       "      <td>Sanji</td>\n",
       "      <td>Art</td>\n",
       "      <td>M</td>\n",
       "      <td>5.80</td>\n",
       "      <td>Business</td>\n",
       "      <td>Nan</td>\n",
       "    </tr>\n",
       "    <tr>\n",
       "      <th>16</th>\n",
       "      <td>Mohan</td>\n",
       "      <td>Math</td>\n",
       "      <td>M</td>\n",
       "      <td>5.11</td>\n",
       "      <td>Nursing</td>\n",
       "      <td>98</td>\n",
       "    </tr>\n",
       "    <tr>\n",
       "      <th>17</th>\n",
       "      <td>Priyanca</td>\n",
       "      <td>Datastructure</td>\n",
       "      <td>F</td>\n",
       "      <td>4.11</td>\n",
       "      <td>Accounting</td>\n",
       "      <td>NaN</td>\n",
       "    </tr>\n",
       "    <tr>\n",
       "      <th>18</th>\n",
       "      <td>Kristin</td>\n",
       "      <td>Python</td>\n",
       "      <td>F</td>\n",
       "      <td>6.10</td>\n",
       "      <td>CS</td>\n",
       "      <td>NaN</td>\n",
       "    </tr>\n",
       "    <tr>\n",
       "      <th>19</th>\n",
       "      <td>Kisan</td>\n",
       "      <td>NaN</td>\n",
       "      <td>M</td>\n",
       "      <td>NaN</td>\n",
       "      <td>CS</td>\n",
       "      <td>88</td>\n",
       "    </tr>\n",
       "  </tbody>\n",
       "</table>\n",
       "</div>"
      ],
      "text/plain": [
       "        Name         Course Gender  Height          Major Grade\n",
       "0       Pema            Esl      M    5.70      Animation    95\n",
       "1      Geeta       Geometry      F    5.11    Libaral art    88\n",
       "2      Shyam    Datasciense      M    4.11             CS    85\n",
       "3     Sarkar            SSN      M     NaN     Accounting    75\n",
       "4        Ram            Eng      M    6.00  Communication    90\n",
       "5      Khale            Bio      M    6.10        English   NaN\n",
       "6      shale        Physics      M    5.10             IT    87\n",
       "7      Smith            Bio      F    5.90  Commuincation    90\n",
       "8       Kane            NaN      M    5.70             IT    91\n",
       "9       Zoro      chemistry      M    5.90     Journalism    93\n",
       "10      Bane           Java      M     NaN      Economics    97\n",
       "11     Hancy             C#      M    6.00       Security    87\n",
       "12    Naruto            C++      M    6.20       Business    88\n",
       "13    Buruto          Music      M    6.30      WebDesign    89\n",
       "14    Nickey           Math      F    5.11       Business    79\n",
       "15     Sanji            Art      M    5.80       Business   Nan\n",
       "16     Mohan           Math      M    5.11        Nursing    98\n",
       "17  Priyanca  Datastructure      F    4.11     Accounting   NaN\n",
       "18   Kristin         Python      F    6.10             CS   NaN\n",
       "19     Kisan            NaN      M     NaN             CS    88"
      ]
     },
     "execution_count": 4,
     "metadata": {},
     "output_type": "execute_result"
    }
   ],
   "source": [
    "MAC270"
   ]
  },
  {
   "cell_type": "markdown",
   "metadata": {},
   "source": [
    "# 4. Show how many rows and how many columns"
   ]
  },
  {
   "cell_type": "code",
   "execution_count": 5,
   "metadata": {},
   "outputs": [
    {
     "data": {
      "text/plain": [
       "(20, 6)"
      ]
     },
     "execution_count": 5,
     "metadata": {},
     "output_type": "execute_result"
    }
   ],
   "source": [
    "MAC270.shape"
   ]
  },
  {
   "cell_type": "markdown",
   "metadata": {},
   "source": [
    "# 5. Show only the name of your columns"
   ]
  },
  {
   "cell_type": "code",
   "execution_count": 6,
   "metadata": {},
   "outputs": [
    {
     "data": {
      "text/plain": [
       "Index(['Name', 'Course', 'Gender', 'Height', 'Major', 'Grade'], dtype='object')"
      ]
     },
     "execution_count": 6,
     "metadata": {},
     "output_type": "execute_result"
    }
   ],
   "source": [
    "MAC270.columns"
   ]
  },
  {
   "cell_type": "markdown",
   "metadata": {},
   "source": [
    "# 6. show only the your rows in the dataframe"
   ]
  },
  {
   "cell_type": "code",
   "execution_count": 7,
   "metadata": {},
   "outputs": [
    {
     "data": {
      "text/plain": [
       "0         Pema\n",
       "1        Geeta\n",
       "2        Shyam\n",
       "3       Sarkar\n",
       "4          Ram\n",
       "5        Khale\n",
       "6        shale\n",
       "7        Smith\n",
       "8         Kane\n",
       "9         Zoro\n",
       "10        Bane\n",
       "11       Hancy\n",
       "12      Naruto\n",
       "13      Buruto\n",
       "14      Nickey\n",
       "15       Sanji\n",
       "16       Mohan\n",
       "17    Priyanca\n",
       "18     Kristin\n",
       "19       Kisan\n",
       "Name: Name, dtype: object"
      ]
     },
     "execution_count": 7,
     "metadata": {},
     "output_type": "execute_result"
    }
   ],
   "source": [
    "MAC270['Name']"
   ]
  },
  {
   "cell_type": "markdown",
   "metadata": {},
   "source": [
    "# 7. show only first three rows"
   ]
  },
  {
   "cell_type": "code",
   "execution_count": 8,
   "metadata": {},
   "outputs": [
    {
     "data": {
      "text/html": [
       "<div>\n",
       "<style scoped>\n",
       "    .dataframe tbody tr th:only-of-type {\n",
       "        vertical-align: middle;\n",
       "    }\n",
       "\n",
       "    .dataframe tbody tr th {\n",
       "        vertical-align: top;\n",
       "    }\n",
       "\n",
       "    .dataframe thead th {\n",
       "        text-align: right;\n",
       "    }\n",
       "</style>\n",
       "<table border=\"1\" class=\"dataframe\">\n",
       "  <thead>\n",
       "    <tr style=\"text-align: right;\">\n",
       "      <th></th>\n",
       "      <th>Name</th>\n",
       "      <th>Course</th>\n",
       "      <th>Gender</th>\n",
       "      <th>Height</th>\n",
       "      <th>Major</th>\n",
       "      <th>Grade</th>\n",
       "    </tr>\n",
       "  </thead>\n",
       "  <tbody>\n",
       "    <tr>\n",
       "      <th>0</th>\n",
       "      <td>Pema</td>\n",
       "      <td>Esl</td>\n",
       "      <td>M</td>\n",
       "      <td>5.70</td>\n",
       "      <td>Animation</td>\n",
       "      <td>95</td>\n",
       "    </tr>\n",
       "    <tr>\n",
       "      <th>1</th>\n",
       "      <td>Geeta</td>\n",
       "      <td>Geometry</td>\n",
       "      <td>F</td>\n",
       "      <td>5.11</td>\n",
       "      <td>Libaral art</td>\n",
       "      <td>88</td>\n",
       "    </tr>\n",
       "    <tr>\n",
       "      <th>2</th>\n",
       "      <td>Shyam</td>\n",
       "      <td>Datasciense</td>\n",
       "      <td>M</td>\n",
       "      <td>4.11</td>\n",
       "      <td>CS</td>\n",
       "      <td>85</td>\n",
       "    </tr>\n",
       "  </tbody>\n",
       "</table>\n",
       "</div>"
      ],
      "text/plain": [
       "    Name       Course Gender  Height        Major Grade\n",
       "0   Pema          Esl      M    5.70    Animation    95\n",
       "1  Geeta     Geometry      F    5.11  Libaral art    88\n",
       "2  Shyam  Datasciense      M    4.11           CS    85"
      ]
     },
     "execution_count": 8,
     "metadata": {},
     "output_type": "execute_result"
    }
   ],
   "source": [
    "MAC270.head(3)"
   ]
  },
  {
   "cell_type": "markdown",
   "metadata": {},
   "source": [
    "# 8. show the last rows of your dataframe"
   ]
  },
  {
   "cell_type": "code",
   "execution_count": 9,
   "metadata": {},
   "outputs": [
    {
     "data": {
      "text/html": [
       "<div>\n",
       "<style scoped>\n",
       "    .dataframe tbody tr th:only-of-type {\n",
       "        vertical-align: middle;\n",
       "    }\n",
       "\n",
       "    .dataframe tbody tr th {\n",
       "        vertical-align: top;\n",
       "    }\n",
       "\n",
       "    .dataframe thead th {\n",
       "        text-align: right;\n",
       "    }\n",
       "</style>\n",
       "<table border=\"1\" class=\"dataframe\">\n",
       "  <thead>\n",
       "    <tr style=\"text-align: right;\">\n",
       "      <th></th>\n",
       "      <th>Name</th>\n",
       "      <th>Course</th>\n",
       "      <th>Gender</th>\n",
       "      <th>Height</th>\n",
       "      <th>Major</th>\n",
       "      <th>Grade</th>\n",
       "    </tr>\n",
       "  </thead>\n",
       "  <tbody>\n",
       "    <tr>\n",
       "      <th>17</th>\n",
       "      <td>Priyanca</td>\n",
       "      <td>Datastructure</td>\n",
       "      <td>F</td>\n",
       "      <td>4.11</td>\n",
       "      <td>Accounting</td>\n",
       "      <td>NaN</td>\n",
       "    </tr>\n",
       "    <tr>\n",
       "      <th>18</th>\n",
       "      <td>Kristin</td>\n",
       "      <td>Python</td>\n",
       "      <td>F</td>\n",
       "      <td>6.10</td>\n",
       "      <td>CS</td>\n",
       "      <td>NaN</td>\n",
       "    </tr>\n",
       "    <tr>\n",
       "      <th>19</th>\n",
       "      <td>Kisan</td>\n",
       "      <td>NaN</td>\n",
       "      <td>M</td>\n",
       "      <td>NaN</td>\n",
       "      <td>CS</td>\n",
       "      <td>88</td>\n",
       "    </tr>\n",
       "  </tbody>\n",
       "</table>\n",
       "</div>"
      ],
      "text/plain": [
       "        Name         Course Gender  Height       Major Grade\n",
       "17  Priyanca  Datastructure      F    4.11  Accounting   NaN\n",
       "18   Kristin         Python      F    6.10          CS   NaN\n",
       "19     Kisan            NaN      M     NaN          CS    88"
      ]
     },
     "execution_count": 9,
     "metadata": {},
     "output_type": "execute_result"
    }
   ],
   "source": [
    "MAC270.tail(3)"
   ]
  },
  {
   "cell_type": "markdown",
   "metadata": {},
   "source": [
    "# 9. Add another column call it new_col and insert what you see appropriate with your dictionary data"
   ]
  },
  {
   "cell_type": "code",
   "execution_count": 10,
   "metadata": {},
   "outputs": [],
   "source": [
    "SSN= [467473,556789,678856,309841,178346,498511,864648,364495,694965,\n",
    "          975875,675696, 856649,735830,973627,764149,555752, 186390,186329,499374, 152844]"
   ]
  },
  {
   "cell_type": "code",
   "execution_count": 11,
   "metadata": {},
   "outputs": [],
   "source": [
    "MAC270['new_col'] = SSN"
   ]
  },
  {
   "cell_type": "code",
   "execution_count": 12,
   "metadata": {},
   "outputs": [
    {
     "data": {
      "text/html": [
       "<div>\n",
       "<style scoped>\n",
       "    .dataframe tbody tr th:only-of-type {\n",
       "        vertical-align: middle;\n",
       "    }\n",
       "\n",
       "    .dataframe tbody tr th {\n",
       "        vertical-align: top;\n",
       "    }\n",
       "\n",
       "    .dataframe thead th {\n",
       "        text-align: right;\n",
       "    }\n",
       "</style>\n",
       "<table border=\"1\" class=\"dataframe\">\n",
       "  <thead>\n",
       "    <tr style=\"text-align: right;\">\n",
       "      <th></th>\n",
       "      <th>Name</th>\n",
       "      <th>Course</th>\n",
       "      <th>Gender</th>\n",
       "      <th>Height</th>\n",
       "      <th>Major</th>\n",
       "      <th>Grade</th>\n",
       "      <th>new_col</th>\n",
       "    </tr>\n",
       "  </thead>\n",
       "  <tbody>\n",
       "    <tr>\n",
       "      <th>0</th>\n",
       "      <td>Pema</td>\n",
       "      <td>Esl</td>\n",
       "      <td>M</td>\n",
       "      <td>5.70</td>\n",
       "      <td>Animation</td>\n",
       "      <td>95</td>\n",
       "      <td>467473</td>\n",
       "    </tr>\n",
       "    <tr>\n",
       "      <th>1</th>\n",
       "      <td>Geeta</td>\n",
       "      <td>Geometry</td>\n",
       "      <td>F</td>\n",
       "      <td>5.11</td>\n",
       "      <td>Libaral art</td>\n",
       "      <td>88</td>\n",
       "      <td>556789</td>\n",
       "    </tr>\n",
       "    <tr>\n",
       "      <th>2</th>\n",
       "      <td>Shyam</td>\n",
       "      <td>Datasciense</td>\n",
       "      <td>M</td>\n",
       "      <td>4.11</td>\n",
       "      <td>CS</td>\n",
       "      <td>85</td>\n",
       "      <td>678856</td>\n",
       "    </tr>\n",
       "    <tr>\n",
       "      <th>3</th>\n",
       "      <td>Sarkar</td>\n",
       "      <td>SSN</td>\n",
       "      <td>M</td>\n",
       "      <td>NaN</td>\n",
       "      <td>Accounting</td>\n",
       "      <td>75</td>\n",
       "      <td>309841</td>\n",
       "    </tr>\n",
       "    <tr>\n",
       "      <th>4</th>\n",
       "      <td>Ram</td>\n",
       "      <td>Eng</td>\n",
       "      <td>M</td>\n",
       "      <td>6.00</td>\n",
       "      <td>Communication</td>\n",
       "      <td>90</td>\n",
       "      <td>178346</td>\n",
       "    </tr>\n",
       "  </tbody>\n",
       "</table>\n",
       "</div>"
      ],
      "text/plain": [
       "     Name       Course Gender  Height          Major Grade  new_col\n",
       "0    Pema          Esl      M    5.70      Animation    95   467473\n",
       "1   Geeta     Geometry      F    5.11    Libaral art    88   556789\n",
       "2   Shyam  Datasciense      M    4.11             CS    85   678856\n",
       "3  Sarkar          SSN      M     NaN     Accounting    75   309841\n",
       "4     Ram          Eng      M    6.00  Communication    90   178346"
      ]
     },
     "execution_count": 12,
     "metadata": {},
     "output_type": "execute_result"
    }
   ],
   "source": [
    "MAC270.head()"
   ]
  },
  {
   "cell_type": "markdown",
   "metadata": {},
   "source": [
    "# 10. Present the data types of each columns"
   ]
  },
  {
   "cell_type": "code",
   "execution_count": 13,
   "metadata": {},
   "outputs": [
    {
     "data": {
      "text/plain": [
       "Name        object\n",
       "Course      object\n",
       "Gender      object\n",
       "Height     float64\n",
       "Major       object\n",
       "Grade       object\n",
       "new_col      int64\n",
       "dtype: object"
      ]
     },
     "execution_count": 13,
     "metadata": {},
     "output_type": "execute_result"
    }
   ],
   "source": [
    "MAC270.dtypes"
   ]
  },
  {
   "cell_type": "markdown",
   "metadata": {},
   "source": [
    "# 11. Drop the column you added"
   ]
  },
  {
   "cell_type": "code",
   "execution_count": 14,
   "metadata": {},
   "outputs": [],
   "source": [
    "MAC270.drop(['new_col'], axis = 1, inplace = True)"
   ]
  },
  {
   "cell_type": "code",
   "execution_count": 15,
   "metadata": {},
   "outputs": [
    {
     "data": {
      "text/html": [
       "<div>\n",
       "<style scoped>\n",
       "    .dataframe tbody tr th:only-of-type {\n",
       "        vertical-align: middle;\n",
       "    }\n",
       "\n",
       "    .dataframe tbody tr th {\n",
       "        vertical-align: top;\n",
       "    }\n",
       "\n",
       "    .dataframe thead th {\n",
       "        text-align: right;\n",
       "    }\n",
       "</style>\n",
       "<table border=\"1\" class=\"dataframe\">\n",
       "  <thead>\n",
       "    <tr style=\"text-align: right;\">\n",
       "      <th></th>\n",
       "      <th>Name</th>\n",
       "      <th>Course</th>\n",
       "      <th>Gender</th>\n",
       "      <th>Height</th>\n",
       "      <th>Major</th>\n",
       "      <th>Grade</th>\n",
       "    </tr>\n",
       "  </thead>\n",
       "  <tbody>\n",
       "    <tr>\n",
       "      <th>0</th>\n",
       "      <td>Pema</td>\n",
       "      <td>Esl</td>\n",
       "      <td>M</td>\n",
       "      <td>5.70</td>\n",
       "      <td>Animation</td>\n",
       "      <td>95</td>\n",
       "    </tr>\n",
       "    <tr>\n",
       "      <th>1</th>\n",
       "      <td>Geeta</td>\n",
       "      <td>Geometry</td>\n",
       "      <td>F</td>\n",
       "      <td>5.11</td>\n",
       "      <td>Libaral art</td>\n",
       "      <td>88</td>\n",
       "    </tr>\n",
       "    <tr>\n",
       "      <th>2</th>\n",
       "      <td>Shyam</td>\n",
       "      <td>Datasciense</td>\n",
       "      <td>M</td>\n",
       "      <td>4.11</td>\n",
       "      <td>CS</td>\n",
       "      <td>85</td>\n",
       "    </tr>\n",
       "    <tr>\n",
       "      <th>3</th>\n",
       "      <td>Sarkar</td>\n",
       "      <td>SSN</td>\n",
       "      <td>M</td>\n",
       "      <td>NaN</td>\n",
       "      <td>Accounting</td>\n",
       "      <td>75</td>\n",
       "    </tr>\n",
       "    <tr>\n",
       "      <th>4</th>\n",
       "      <td>Ram</td>\n",
       "      <td>Eng</td>\n",
       "      <td>M</td>\n",
       "      <td>6.00</td>\n",
       "      <td>Communication</td>\n",
       "      <td>90</td>\n",
       "    </tr>\n",
       "  </tbody>\n",
       "</table>\n",
       "</div>"
      ],
      "text/plain": [
       "     Name       Course Gender  Height          Major Grade\n",
       "0    Pema          Esl      M    5.70      Animation    95\n",
       "1   Geeta     Geometry      F    5.11    Libaral art    88\n",
       "2   Shyam  Datasciense      M    4.11             CS    85\n",
       "3  Sarkar          SSN      M     NaN     Accounting    75\n",
       "4     Ram          Eng      M    6.00  Communication    90"
      ]
     },
     "execution_count": 15,
     "metadata": {},
     "output_type": "execute_result"
    }
   ],
   "source": [
    "MAC270.head()"
   ]
  },
  {
   "cell_type": "code",
   "execution_count": 16,
   "metadata": {},
   "outputs": [
    {
     "data": {
      "text/plain": [
       "0     False\n",
       "1     False\n",
       "2     False\n",
       "3      True\n",
       "4     False\n",
       "5     False\n",
       "6     False\n",
       "7     False\n",
       "8     False\n",
       "9     False\n",
       "10     True\n",
       "11    False\n",
       "12    False\n",
       "13    False\n",
       "14    False\n",
       "15    False\n",
       "16    False\n",
       "17    False\n",
       "18    False\n",
       "19     True\n",
       "Name: Height, dtype: bool"
      ]
     },
     "execution_count": 16,
     "metadata": {},
     "output_type": "execute_result"
    }
   ],
   "source": [
    "MAC270['Height'].isnull()"
   ]
  },
  {
   "cell_type": "markdown",
   "metadata": {},
   "source": [
    "# 19. Graph of the grades of the students (Bonus)"
   ]
  },
  {
   "cell_type": "markdown",
   "metadata": {},
   "source": [
    "# Now before plotting the graphs it is necessary to cleanse the data in the DataFrame."
   ]
  },
  {
   "cell_type": "markdown",
   "metadata": {},
   "source": [
    "# figure out standard and non-standard missing values"
   ]
  },
  {
   "cell_type": "markdown",
   "metadata": {},
   "source": [
    "# replace it with panda's standard 'NaN' values"
   ]
  },
  {
   "cell_type": "markdown",
   "metadata": {},
   "source": [
    "# fill it up with appropriate values"
   ]
  },
  {
   "cell_type": "code",
   "execution_count": 17,
   "metadata": {},
   "outputs": [],
   "source": [
    "MAC270.replace(['Nan', 'NaN'], np.NaN, inplace = True)"
   ]
  },
  {
   "cell_type": "code",
   "execution_count": 18,
   "metadata": {},
   "outputs": [],
   "source": [
    "newHeight = MAC270['Height'].mean()\n",
    "newGrade = MAC270['Grade'].mean()"
   ]
  },
  {
   "cell_type": "code",
   "execution_count": 19,
   "metadata": {},
   "outputs": [],
   "source": [
    "MAC270 = MAC270.fillna({'Height': newHeight, 'Grade':newGrade, 'Course': 'OOP'}) "
   ]
  },
  {
   "cell_type": "code",
   "execution_count": 20,
   "metadata": {},
   "outputs": [
    {
     "data": {
      "text/html": [
       "<div>\n",
       "<style scoped>\n",
       "    .dataframe tbody tr th:only-of-type {\n",
       "        vertical-align: middle;\n",
       "    }\n",
       "\n",
       "    .dataframe tbody tr th {\n",
       "        vertical-align: top;\n",
       "    }\n",
       "\n",
       "    .dataframe thead th {\n",
       "        text-align: right;\n",
       "    }\n",
       "</style>\n",
       "<table border=\"1\" class=\"dataframe\">\n",
       "  <thead>\n",
       "    <tr style=\"text-align: right;\">\n",
       "      <th></th>\n",
       "      <th>Name</th>\n",
       "      <th>Course</th>\n",
       "      <th>Gender</th>\n",
       "      <th>Height</th>\n",
       "      <th>Major</th>\n",
       "      <th>Grade</th>\n",
       "    </tr>\n",
       "  </thead>\n",
       "  <tbody>\n",
       "    <tr>\n",
       "      <th>0</th>\n",
       "      <td>Pema</td>\n",
       "      <td>Esl</td>\n",
       "      <td>M</td>\n",
       "      <td>5.70</td>\n",
       "      <td>Animation</td>\n",
       "      <td>95.00</td>\n",
       "    </tr>\n",
       "    <tr>\n",
       "      <th>1</th>\n",
       "      <td>Geeta</td>\n",
       "      <td>Geometry</td>\n",
       "      <td>F</td>\n",
       "      <td>5.11</td>\n",
       "      <td>Libaral art</td>\n",
       "      <td>88.00</td>\n",
       "    </tr>\n",
       "    <tr>\n",
       "      <th>2</th>\n",
       "      <td>Shyam</td>\n",
       "      <td>Datasciense</td>\n",
       "      <td>M</td>\n",
       "      <td>4.11</td>\n",
       "      <td>CS</td>\n",
       "      <td>85.00</td>\n",
       "    </tr>\n",
       "    <tr>\n",
       "      <th>3</th>\n",
       "      <td>Sarkar</td>\n",
       "      <td>SSN</td>\n",
       "      <td>M</td>\n",
       "      <td>5.55</td>\n",
       "      <td>Accounting</td>\n",
       "      <td>75.00</td>\n",
       "    </tr>\n",
       "    <tr>\n",
       "      <th>4</th>\n",
       "      <td>Ram</td>\n",
       "      <td>Eng</td>\n",
       "      <td>M</td>\n",
       "      <td>6.00</td>\n",
       "      <td>Communication</td>\n",
       "      <td>90.00</td>\n",
       "    </tr>\n",
       "    <tr>\n",
       "      <th>5</th>\n",
       "      <td>Khale</td>\n",
       "      <td>Bio</td>\n",
       "      <td>M</td>\n",
       "      <td>6.10</td>\n",
       "      <td>English</td>\n",
       "      <td>88.75</td>\n",
       "    </tr>\n",
       "    <tr>\n",
       "      <th>6</th>\n",
       "      <td>shale</td>\n",
       "      <td>Physics</td>\n",
       "      <td>M</td>\n",
       "      <td>5.10</td>\n",
       "      <td>IT</td>\n",
       "      <td>87.00</td>\n",
       "    </tr>\n",
       "    <tr>\n",
       "      <th>7</th>\n",
       "      <td>Smith</td>\n",
       "      <td>Bio</td>\n",
       "      <td>F</td>\n",
       "      <td>5.90</td>\n",
       "      <td>Commuincation</td>\n",
       "      <td>90.00</td>\n",
       "    </tr>\n",
       "    <tr>\n",
       "      <th>8</th>\n",
       "      <td>Kane</td>\n",
       "      <td>OOP</td>\n",
       "      <td>M</td>\n",
       "      <td>5.70</td>\n",
       "      <td>IT</td>\n",
       "      <td>91.00</td>\n",
       "    </tr>\n",
       "    <tr>\n",
       "      <th>9</th>\n",
       "      <td>Zoro</td>\n",
       "      <td>chemistry</td>\n",
       "      <td>M</td>\n",
       "      <td>5.90</td>\n",
       "      <td>Journalism</td>\n",
       "      <td>93.00</td>\n",
       "    </tr>\n",
       "    <tr>\n",
       "      <th>10</th>\n",
       "      <td>Bane</td>\n",
       "      <td>Java</td>\n",
       "      <td>M</td>\n",
       "      <td>5.55</td>\n",
       "      <td>Economics</td>\n",
       "      <td>97.00</td>\n",
       "    </tr>\n",
       "    <tr>\n",
       "      <th>11</th>\n",
       "      <td>Hancy</td>\n",
       "      <td>C#</td>\n",
       "      <td>M</td>\n",
       "      <td>6.00</td>\n",
       "      <td>Security</td>\n",
       "      <td>87.00</td>\n",
       "    </tr>\n",
       "    <tr>\n",
       "      <th>12</th>\n",
       "      <td>Naruto</td>\n",
       "      <td>C++</td>\n",
       "      <td>M</td>\n",
       "      <td>6.20</td>\n",
       "      <td>Business</td>\n",
       "      <td>88.00</td>\n",
       "    </tr>\n",
       "    <tr>\n",
       "      <th>13</th>\n",
       "      <td>Buruto</td>\n",
       "      <td>Music</td>\n",
       "      <td>M</td>\n",
       "      <td>6.30</td>\n",
       "      <td>WebDesign</td>\n",
       "      <td>89.00</td>\n",
       "    </tr>\n",
       "    <tr>\n",
       "      <th>14</th>\n",
       "      <td>Nickey</td>\n",
       "      <td>Math</td>\n",
       "      <td>F</td>\n",
       "      <td>5.11</td>\n",
       "      <td>Business</td>\n",
       "      <td>79.00</td>\n",
       "    </tr>\n",
       "    <tr>\n",
       "      <th>15</th>\n",
       "      <td>Sanji</td>\n",
       "      <td>Art</td>\n",
       "      <td>M</td>\n",
       "      <td>5.80</td>\n",
       "      <td>Business</td>\n",
       "      <td>88.75</td>\n",
       "    </tr>\n",
       "    <tr>\n",
       "      <th>16</th>\n",
       "      <td>Mohan</td>\n",
       "      <td>Math</td>\n",
       "      <td>M</td>\n",
       "      <td>5.11</td>\n",
       "      <td>Nursing</td>\n",
       "      <td>98.00</td>\n",
       "    </tr>\n",
       "    <tr>\n",
       "      <th>17</th>\n",
       "      <td>Priyanca</td>\n",
       "      <td>Datastructure</td>\n",
       "      <td>F</td>\n",
       "      <td>4.11</td>\n",
       "      <td>Accounting</td>\n",
       "      <td>88.75</td>\n",
       "    </tr>\n",
       "    <tr>\n",
       "      <th>18</th>\n",
       "      <td>Kristin</td>\n",
       "      <td>Python</td>\n",
       "      <td>F</td>\n",
       "      <td>6.10</td>\n",
       "      <td>CS</td>\n",
       "      <td>88.75</td>\n",
       "    </tr>\n",
       "    <tr>\n",
       "      <th>19</th>\n",
       "      <td>Kisan</td>\n",
       "      <td>OOP</td>\n",
       "      <td>M</td>\n",
       "      <td>5.55</td>\n",
       "      <td>CS</td>\n",
       "      <td>88.00</td>\n",
       "    </tr>\n",
       "  </tbody>\n",
       "</table>\n",
       "</div>"
      ],
      "text/plain": [
       "        Name         Course Gender  Height          Major  Grade\n",
       "0       Pema            Esl      M    5.70      Animation  95.00\n",
       "1      Geeta       Geometry      F    5.11    Libaral art  88.00\n",
       "2      Shyam    Datasciense      M    4.11             CS  85.00\n",
       "3     Sarkar            SSN      M    5.55     Accounting  75.00\n",
       "4        Ram            Eng      M    6.00  Communication  90.00\n",
       "5      Khale            Bio      M    6.10        English  88.75\n",
       "6      shale        Physics      M    5.10             IT  87.00\n",
       "7      Smith            Bio      F    5.90  Commuincation  90.00\n",
       "8       Kane            OOP      M    5.70             IT  91.00\n",
       "9       Zoro      chemistry      M    5.90     Journalism  93.00\n",
       "10      Bane           Java      M    5.55      Economics  97.00\n",
       "11     Hancy             C#      M    6.00       Security  87.00\n",
       "12    Naruto            C++      M    6.20       Business  88.00\n",
       "13    Buruto          Music      M    6.30      WebDesign  89.00\n",
       "14    Nickey           Math      F    5.11       Business  79.00\n",
       "15     Sanji            Art      M    5.80       Business  88.75\n",
       "16     Mohan           Math      M    5.11        Nursing  98.00\n",
       "17  Priyanca  Datastructure      F    4.11     Accounting  88.75\n",
       "18   Kristin         Python      F    6.10             CS  88.75\n",
       "19     Kisan            OOP      M    5.55             CS  88.00"
      ]
     },
     "execution_count": 20,
     "metadata": {},
     "output_type": "execute_result"
    }
   ],
   "source": [
    "MAC270"
   ]
  },
  {
   "cell_type": "code",
   "execution_count": 21,
   "metadata": {},
   "outputs": [],
   "source": [
    "rcParams['figure.figsize'] = 16, 9"
   ]
  },
  {
   "cell_type": "code",
   "execution_count": 22,
   "metadata": {},
   "outputs": [
    {
     "data": {
      "text/plain": [
       "Text(0.5, 1.0, 'Graph showing grades of the students')"
      ]
     },
     "execution_count": 22,
     "metadata": {},
     "output_type": "execute_result"
    },
    {
     "data": {
      "image/png": "[encoded data removed]",
      "text/plain": [
       "<Figure size 1152x648 with 1 Axes>"
      ]
     },
     "metadata": {
      "needs_background": "light"
     },
     "output_type": "display_data"
    }
   ],
   "source": [
    "plt.plot(MAC270['Name'], MAC270['Grade'])\n",
    "plt.ylabel('Grades')\n",
    "plt.xlabel('Student Names')\n",
    "plt.title('Graph showing grades of the students')"
   ]
  },
  {
   "cell_type": "code",
   "execution_count": null,
   "metadata": {},
   "outputs": [],
   "source": []
  }
 ],
 "metadata": {
  "kernelspec": {
   "display_name": "Python 3",
   "language": "python",
   "name": "python3"
  },
  "language_info": {
   "codemirror_mode": {
    "name": "ipython",
    "version": 3
   },
   "file_extension": ".py",
   "mimetype": "text/x-python",
   "name": "python",
   "nbconvert_exporter": "python",
   "pygments_lexer": "ipython3",
   "version": "3.7.1"
  }
 },
 "nbformat": 4,
 "nbformat_minor": 2
}
